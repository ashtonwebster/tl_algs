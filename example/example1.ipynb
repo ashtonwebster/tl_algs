{
 "cells": [
  {
   "cell_type": "code",
   "execution_count": 3,
   "metadata": {},
   "outputs": [
    {
     "name": "stdout",
     "output_type": "stream",
     "text": [
      "The autoreload extension is already loaded. To reload it, use:\n",
      "  %reload_ext autoreload\n"
     ]
    }
   ],
   "source": [
    "%matplotlib inline\n",
    "%load_ext autoreload\n",
    "%autoreload 2\n",
    "import pandas as pd\n",
    "import matplotlib.pyplot as plt\n",
    "from sklearn.datasets import make_blobs\n",
    "from sklearn.ensemble import RandomForestClassifier\n",
    "import random\n",
    "RAND_SEED = 2016 \n",
    "random.seed(RAND_SEED) # change this to see new random data!"
   ]
  },
  {
   "cell_type": "markdown",
   "metadata": {},
   "source": [
    "# Generating some sample data\n",
    "\n",
    "Let's start by generating some random data. We need to set two features (xcoord and y_coord), a domain, and a label\n",
    "for each instance"
   ]
  },
  {
   "cell_type": "code",
   "execution_count": 2,
   "metadata": {},
   "outputs": [
    {
     "data": {
      "text/html": [
       "<div>\n",
       "<table border=\"1\" class=\"dataframe\">\n",
       "  <thead>\n",
       "    <tr style=\"text-align: right;\">\n",
       "      <th></th>\n",
       "      <th>x_coord</th>\n",
       "      <th>y_coord</th>\n",
       "      <th>domain_index</th>\n",
       "      <th>label</th>\n",
       "    </tr>\n",
       "  </thead>\n",
       "  <tbody>\n",
       "    <tr>\n",
       "      <th>0</th>\n",
       "      <td>0.970959</td>\n",
       "      <td>-5.814882</td>\n",
       "      <td>2</td>\n",
       "      <td>False</td>\n",
       "    </tr>\n",
       "    <tr>\n",
       "      <th>1</th>\n",
       "      <td>2.219159</td>\n",
       "      <td>-0.787387</td>\n",
       "      <td>0</td>\n",
       "      <td>True</td>\n",
       "    </tr>\n",
       "    <tr>\n",
       "      <th>2</th>\n",
       "      <td>-4.629542</td>\n",
       "      <td>-5.087890</td>\n",
       "      <td>2</td>\n",
       "      <td>False</td>\n",
       "    </tr>\n",
       "    <tr>\n",
       "      <th>3</th>\n",
       "      <td>7.264013</td>\n",
       "      <td>1.475821</td>\n",
       "      <td>0</td>\n",
       "      <td>False</td>\n",
       "    </tr>\n",
       "    <tr>\n",
       "      <th>4</th>\n",
       "      <td>-8.582609</td>\n",
       "      <td>5.535371</td>\n",
       "      <td>2</td>\n",
       "      <td>True</td>\n",
       "    </tr>\n",
       "    <tr>\n",
       "      <th>5</th>\n",
       "      <td>5.535070</td>\n",
       "      <td>2.514871</td>\n",
       "      <td>1</td>\n",
       "      <td>False</td>\n",
       "    </tr>\n",
       "    <tr>\n",
       "      <th>6</th>\n",
       "      <td>3.883812</td>\n",
       "      <td>2.465593</td>\n",
       "      <td>1</td>\n",
       "      <td>False</td>\n",
       "    </tr>\n",
       "    <tr>\n",
       "      <th>7</th>\n",
       "      <td>-1.264045</td>\n",
       "      <td>9.674798</td>\n",
       "      <td>1</td>\n",
       "      <td>True</td>\n",
       "    </tr>\n",
       "    <tr>\n",
       "      <th>8</th>\n",
       "      <td>10.521706</td>\n",
       "      <td>-8.873840</td>\n",
       "      <td>0</td>\n",
       "      <td>True</td>\n",
       "    </tr>\n",
       "    <tr>\n",
       "      <th>9</th>\n",
       "      <td>5.376876</td>\n",
       "      <td>2.716703</td>\n",
       "      <td>1</td>\n",
       "      <td>True</td>\n",
       "    </tr>\n",
       "    <tr>\n",
       "      <th>10</th>\n",
       "      <td>15.193340</td>\n",
       "      <td>-6.766711</td>\n",
       "      <td>0</td>\n",
       "      <td>True</td>\n",
       "    </tr>\n",
       "    <tr>\n",
       "      <th>11</th>\n",
       "      <td>1.848529</td>\n",
       "      <td>5.423696</td>\n",
       "      <td>1</td>\n",
       "      <td>True</td>\n",
       "    </tr>\n",
       "    <tr>\n",
       "      <th>12</th>\n",
       "      <td>6.870458</td>\n",
       "      <td>-2.490836</td>\n",
       "      <td>2</td>\n",
       "      <td>True</td>\n",
       "    </tr>\n",
       "    <tr>\n",
       "      <th>13</th>\n",
       "      <td>-1.367772</td>\n",
       "      <td>-1.416391</td>\n",
       "      <td>2</td>\n",
       "      <td>True</td>\n",
       "    </tr>\n",
       "    <tr>\n",
       "      <th>14</th>\n",
       "      <td>5.354503</td>\n",
       "      <td>1.203481</td>\n",
       "      <td>0</td>\n",
       "      <td>True</td>\n",
       "    </tr>\n",
       "  </tbody>\n",
       "</table>\n",
       "</div>"
      ],
      "text/plain": [
       "      x_coord   y_coord  domain_index  label\n",
       "0    0.970959 -5.814882             2  False\n",
       "1    2.219159 -0.787387             0   True\n",
       "2   -4.629542 -5.087890             2  False\n",
       "3    7.264013  1.475821             0  False\n",
       "4   -8.582609  5.535371             2   True\n",
       "5    5.535070  2.514871             1  False\n",
       "6    3.883812  2.465593             1  False\n",
       "7   -1.264045  9.674798             1   True\n",
       "8   10.521706 -8.873840             0   True\n",
       "9    5.376876  2.716703             1   True\n",
       "10  15.193340 -6.766711             0   True\n",
       "11   1.848529  5.423696             1   True\n",
       "12   6.870458 -2.490836             2   True\n",
       "13  -1.367772 -1.416391             2   True\n",
       "14   5.354503  1.203481             0   True"
      ]
     },
     "execution_count": 2,
     "metadata": {},
     "output_type": "execute_result"
    },
    {
     "data": {
      "image/png": "[encoded data removed]",
      "text/plain": [
       "<matplotlib.figure.Figure at 0x113c48e10>"
      ]
     },
     "metadata": {},
     "output_type": "display_data"
    }
   ],
   "source": [
    "# randomly generate some data\n",
    "X, domain_index = make_blobs(n_samples=15, centers=3, n_features=2, cluster_std=5)\n",
    "\n",
    "# randomly assigning domain and label\n",
    "all_instances = pd.DataFrame({\"x_coord\" : [x[0] for x in X],\n",
    "              \"y_coord\" : [x[1] for x in X],\n",
    "              \"domain_index\" : domain_index,\n",
    "              \"label\" : [random.choice([True,False]) for _ in X]},\n",
    "             columns = ['x_coord','y_coord','domain_index', 'label']\n",
    "            )\n",
    "\n",
    "# plotting\n",
    "pos_instances = all_instances[all_instances.label == True]\n",
    "neg_instances = all_instances[all_instances.label == False]\n",
    "def add_series(instances, kw_args):\n",
    "    color_list = ['red', 'green', 'blue']\n",
    "    plt.scatter(instances.x_coord, \n",
    "                instances.y_coord, \n",
    "                s=[150 for _ in instances.iterrows()], \n",
    "                label=instances.domain_index,\n",
    "                c=[color_list[i] for i in instances.domain_index],\n",
    "                **kw_args\n",
    "               )\n",
    "    \n",
    "add_series(pos_instances, {\"marker\": \"+\"})\n",
    "add_series(neg_instances, {\"marker\": \"o\"})\n",
    "all_instances"
   ]
  },
  {
   "cell_type": "markdown",
   "metadata": {},
   "source": [
    "The domain is indicated by color.  The positive instances are designated by the plus sign and the negative instances are designated by the circle. "
   ]
  },
  {
   "cell_type": "markdown",
   "metadata": {},
   "source": [
    "# Dividing the data\n",
    "\n",
    "The next step is to get some training and testing data.  Let's try and label three red domain instances.  We will designate these as test instances.  This has the following implications:\n",
    "\n",
    "* The red domain is now the *target domain*\n",
    "* The blue and green domains are the *source domains*\n",
    "* All instances that are not in the three red domain *test instances* are *training instances*\n",
    "\n",
    "Note that some of the training instances are in the target domain.  This represents having some available\n",
    "training data for the domain you are trying to label."
   ]
  },
  {
   "cell_type": "code",
   "execution_count": 3,
   "metadata": {},
   "outputs": [
    {
     "data": {
      "image/png": "[encoded data removed]",
      "text/plain": [
       "<matplotlib.figure.Figure at 0x113cab990>"
      ]
     },
     "metadata": {},
     "output_type": "display_data"
    }
   ],
   "source": [
    "#arbitrarily set domain index 0 as target\n",
    "test_set_domain = 0\n",
    "# we are going to set the first three instances as test data\n",
    "# note that this means that some of the target domain has training instances!\n",
    "test_set = all_instances[all_instances.domain_index == test_set_domain].sample(3, random_state=RAND_SEED)\n",
    "test_set_X = test_set.loc[:, [\"x_coord\", \"y_coord\"]].reset_index(drop=True)\n",
    "test_set_y = test_set.loc[:, [\"label\"]].reset_index(drop=True)\n",
    "\n",
    "# gather all non-test indexes \n",
    "train_pool = all_instances.iloc[all_instances.index.difference(test_set.index), ] \n",
    "train_pool_X = train_pool.loc[:, [\"x_coord\", \"y_coord\"]].reset_index(drop=True)\n",
    "train_pool_y = train_pool[\"label\"].reset_index(drop=True)\n",
    "train_pool_domain = train_pool.domain_index\n",
    "\n",
    "# now let's plot with test instances slightly transparent\n",
    "# so all of the train instances are solid but the test instances are transparent\n",
    "\n",
    "add_series(train_pool[train_pool.label == True], {\"marker\" : \"+\"})\n",
    "add_series(train_pool[train_pool.label == False], {\"marker\" : \"o\"})\n",
    "add_series(test_set[test_set.label == True], {\"marker\" : \"+\", \"alpha\" : .3})\n",
    "add_series(test_set[test_set.label == False], {\"marker\" : \"o\", \"alpha\" : .3})"
   ]
  },
  {
   "cell_type": "markdown",
   "metadata": {},
   "source": [
    "In the above figure, we see that there are 12 *training instances* (which are opaque and from all domains) and 3 *test instances* (which are transparent and from the red target domain).  "
   ]
  },
  {
   "cell_type": "markdown",
   "metadata": {},
   "source": [
    "# Predicting Labels using Transfer Learning\n",
    "\n",
    "We haven't used any of this libraries functionality yet. Let's give it a shot!  Now that we have the training and test data, we simply pass everything to one of the provided classes and call train_filter_test()\n",
    "\n",
    "Let's start with the Source_Baseline class.  This simply uses all available *training source domain* data. This means that only blue and green domain training data are used."
   ]
  },
  {
   "cell_type": "code",
   "execution_count": 4,
   "metadata": {
    "collapsed": true
   },
   "outputs": [],
   "source": [
    "from tl_algs import tl_baseline "
   ]
  },
  {
   "cell_type": "code",
   "execution_count": 5,
   "metadata": {},
   "outputs": [
    {
     "name": "stdout",
     "output_type": "stream",
     "text": [
      "confidence\n",
      "[0.20000000000000001, 0.59999999999999998, 0.40000000000000002]\n",
      "\n",
      "\n",
      "predicted label\n",
      "[False  True False]\n"
     ]
    }
   ],
   "source": [
    "confidence, predicted_label = \\\n",
    "    tl_baseline.Source_Baseline(\n",
    "                                test_set_X=test_set_X, \n",
    "                                test_set_domain=test_set_domain, \n",
    "                                train_pool_X=train_pool_X, \n",
    "                                train_pool_y=train_pool_y, \n",
    "                                train_pool_domain=train_pool_domain, \n",
    "                                Base_Classifier=RandomForestClassifier,\n",
    "                                rand_seed=RAND_SEED\n",
    "                               ) \\\n",
    "          .train_filter_test()\n",
    "        \n",
    "print(\"confidence\")\n",
    "print(str(confidence) + \"\\n\\n\")\n",
    "print(\"predicted label\")\n",
    "print(predicted_label)"
   ]
  },
  {
   "cell_type": "markdown",
   "metadata": {},
   "source": [
    "We don't have much training data, but we got some predictions with confidence levels!\n",
    "\n",
    "Let's try again with the Burak filter."
   ]
  },
  {
   "cell_type": "code",
   "execution_count": 6,
   "metadata": {
    "collapsed": true
   },
   "outputs": [],
   "source": [
    "from tl_algs import burak"
   ]
  },
  {
   "cell_type": "code",
   "execution_count": 7,
   "metadata": {},
   "outputs": [
    {
     "name": "stdout",
     "output_type": "stream",
     "text": [
      "confidence\n",
      "[0.40000000000000002, 0.40000000000000002, 0.69999999999999996]\n",
      "\n",
      "\n",
      "predicted label\n",
      "[False False  True]\n"
     ]
    }
   ],
   "source": [
    "confidence, predicted_label = burak.Burak(\n",
    "            test_set_X=test_set_X, \n",
    "            test_set_domain=test_set_domain, \n",
    "            train_pool_X=train_pool_X, \n",
    "            train_pool_y=train_pool_y, \n",
    "            train_pool_domain=train_pool_domain,\n",
    "            cluster_factor = 15,\n",
    "            k = 2,\n",
    "            Base_Classifier=RandomForestClassifier,\n",
    "            rand_seed=RAND_SEED\n",
    "           ) \\\n",
    "    .train_filter_test()\n",
    "    \n",
    "        \n",
    "print(\"confidence\")\n",
    "print(str(confidence) + \"\\n\\n\")\n",
    "print(\"predicted label\")\n",
    "print(predicted_label)"
   ]
  },
  {
   "cell_type": "markdown",
   "metadata": {},
   "source": [
    "The process is very similar for all other transfer learning algorithms."
   ]
  },
  {
   "cell_type": "code",
   "execution_count": 8,
   "metadata": {},
   "outputs": [],
   "source": [
    "from tl_algs import peters, tnb, trbag"
   ]
  },
  {
   "cell_type": "code",
   "execution_count": 11,
   "metadata": {},
   "outputs": [
    {
     "name": "stdout",
     "output_type": "stream",
     "text": [
      "([0.0, 0.10000000000000001, 0.10000000000000001], array([False, False, False], dtype=bool))\n",
      "(array([ True,  True, False], dtype=bool), array([ 0.5017301 ,  0.50001189,  0.5       ]))\n"
     ]
    },
    {
     "name": "stderr",
     "output_type": "stream",
     "text": [
      "/Users/ashton/anaconda/lib/python2.7/site-packages/sklearn/metrics/classification.py:1113: UndefinedMetricWarning: F-score is ill-defined and being set to 0.0 due to no predicted samples.\n",
      "  'precision', 'predicted', average, warn_for)\n"
     ]
    },
    {
     "name": "stdout",
     "output_type": "stream",
     "text": [
      "(array([ 0.71428571,  0.76190476,  0.71428571]), array([ True,  True,  True], dtype=bool))\n",
      "([0.29999999999999999, 0.59999999999999998, 0.20000000000000001], array([False,  True, False], dtype=bool))\n",
      "(array([ 1.,  1.,  1.]), array([ True,  True,  True], dtype=bool))\n"
     ]
    }
   ],
   "source": [
    "transfer_learners = [\n",
    "    peters.Peters(test_set_X=test_set_X, \n",
    "                  test_set_domain=test_set_domain, \n",
    "                  train_pool_X=train_pool_X, \n",
    "                  train_pool_y=train_pool_y, \n",
    "                  train_pool_domain=train_pool_domain, \n",
    "                  cluster_factor=15,\n",
    "                  Base_Classifier=RandomForestClassifier,\n",
    "                  rand_seed=RAND_SEED\n",
    "                 ),\n",
    "    tnb.TransferNaiveBayes(test_set_X=test_set_X, \n",
    "                  test_set_domain=test_set_domain, \n",
    "                  train_pool_X=train_pool_X, \n",
    "                  train_pool_y=train_pool_y, \n",
    "                  train_pool_domain=train_pool_domain, \n",
    "                  rand_seed=RAND_SEED\n",
    "                 ),\n",
    "    trbag.TrBag(test_set_X=test_set_X, \n",
    "                  test_set_domain=test_set_domain, \n",
    "                  train_pool_X=train_pool_X, \n",
    "                  train_pool_y=train_pool_y, \n",
    "                  train_pool_domain=train_pool_domain, \n",
    "                  sample_size=test_set_y.shape[0],\n",
    "                  Base_Classifier=RandomForestClassifier,\n",
    "                  rand_seed=RAND_SEED\n",
    "                 ),\n",
    "    tl_baseline.Hybrid_Baseline(test_set_X=test_set_X, \n",
    "                  test_set_domain=test_set_domain, \n",
    "                  train_pool_X=train_pool_X, \n",
    "                  train_pool_y=train_pool_y, \n",
    "                  train_pool_domain=train_pool_domain, \n",
    "                  Base_Classifier=RandomForestClassifier,\n",
    "                  rand_seed=RAND_SEED\n",
    "                 ),\n",
    "    tl_baseline.Target_Baseline(test_set_X=test_set_X, \n",
    "                  test_set_domain=test_set_domain, \n",
    "                  train_pool_X=train_pool_X, \n",
    "                  train_pool_y=train_pool_y, \n",
    "                  train_pool_domain=train_pool_domain, \n",
    "                  Base_Classifier=RandomForestClassifier,\n",
    "                  rand_seed=RAND_SEED\n",
    "                 )\n",
    "]\n",
    "\n",
    "for transfer_learner in transfer_learners:\n",
    "    print(transfer_learner.train_filter_test())\n"
   ]
  },
  {
   "cell_type": "code",
   "execution_count": 12,
   "metadata": {},
   "outputs": [
    {
     "data": {
      "text/plain": [
       "(array([ 1.,  1.,  1.]), array([ True,  True,  True], dtype=bool))"
      ]
     },
     "execution_count": 12,
     "metadata": {},
     "output_type": "execute_result"
    }
   ],
   "source": [
    "tl_baseline.Target_Baseline(test_set_X=test_set_X, \n",
    "                  test_set_domain=test_set_domain, \n",
    "                  train_pool_X=train_pool_X, \n",
    "                  train_pool_y=train_pool_y, \n",
    "                  train_pool_domain=train_pool_domain, \n",
    "                  Base_Classifier=RandomForestClassifier,\n",
    "                  rand_seed=RAND_SEED\n",
    "                 ).train_filter_test()"
   ]
  },
  {
   "cell_type": "code",
   "execution_count": null,
   "metadata": {},
   "outputs": [],
   "source": []
  }
 ],
 "metadata": {
  "kernelspec": {
   "display_name": "Python 3 (ipykernel)",
   "language": "python",
   "name": "python3"
  },
  "language_info": {
   "codemirror_mode": {
    "name": "ipython",
    "version": 3
   },
   "file_extension": ".py",
   "mimetype": "text/x-python",
   "name": "python",
   "nbconvert_exporter": "python",
   "pygments_lexer": "ipython3",
   "version": "3.8.6"
  }
 },
 "nbformat": 4,
 "nbformat_minor": 1
}
